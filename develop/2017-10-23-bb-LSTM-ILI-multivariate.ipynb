{
 "cells": [
  {
   "cell_type": "markdown",
   "metadata": {},
   "source": [
    "### ILI activiy prediction from Lat, Long"
   ]
  },
  {
   "cell_type": "markdown",
   "metadata": {},
   "source": [
    "# Import module"
   ]
  },
  {
   "cell_type": "code",
   "execution_count": 3,
   "metadata": {},
   "outputs": [
    {
     "name": "stderr",
     "output_type": "stream",
     "text": [
      "Using TensorFlow backend.\n",
      "/Users/bbuildman/anaconda3/lib/python3.6/importlib/_bootstrap.py:219: RuntimeWarning: compiletime version 3.5 of module 'tensorflow.python.framework.fast_tensor_util' does not match runtime version 3.6\n",
      "  return f(*args, **kwds)\n"
     ]
    }
   ],
   "source": [
    "from math import sqrt\n",
    "from numpy import concatenate\n",
    "import matplotlib.pyplot as plt\n",
    "import matplotlib.pyplot as plt2\n",
    "\n",
    "from datetime import datetime\n",
    "\n",
    "import pandas as pd\n",
    "from pandas import read_csv\n",
    "from pandas import DataFrame\n",
    "from pandas import concat\n",
    "\n",
    "import sklearn\n",
    "from sklearn import preprocessing\n",
    "from sklearn.preprocessing import MinMaxScaler\n",
    "from sklearn.preprocessing import LabelEncoder\n",
    "from sklearn.metrics import mean_squared_error\n",
    "\n",
    "import keras\n",
    "from keras.models import Sequential\n",
    "from keras.layers import Dense\n",
    "from keras.layers import LSTM \n",
    "from sklearn.externals.joblib import Memory\n",
    "memory = Memory(cachedir='/tmp', verbose=0)\n",
    "\n",
    "\n",
    "import h5py"
   ]
  },
  {
   "cell_type": "markdown",
   "metadata": {},
   "source": [
    "# convert series to supervised learning"
   ]
  },
  {
   "cell_type": "code",
   "execution_count": 165,
   "metadata": {
    "collapsed": true
   },
   "outputs": [],
   "source": [
    "def series_to_supervised(data, n_in=1, n_out=1, dropnan=True):\n",
    "\t\"\"\"\n",
    "\tFrame a time series as a supervised learning dataset.\n",
    "\tArguments:\n",
    "\t\tdata: Sequence of observations as a list or NumPy array.\n",
    "\t\tn_in: Number of lag observations as input (X).\n",
    "\t\tn_out: Number of observations as output (y).\n",
    "\t\tdropnan: Boolean whether or not to drop rows with NaN values.\n",
    "\tReturns:\n",
    "\t\tPandas DataFrame of series framed for supervised learning.\n",
    "\t\"\"\"\n",
    "\tn_vars = 1 if type(data) is list else data.shape[1]\n",
    "\tdf = DataFrame(data)\n",
    "\tcols, names = list(), list()\n",
    "\t# input sequence (t-n, ... t-1)\n",
    "\tfor i in range(n_in, 0, -1):\n",
    "\t\tcols.append(df.shift(i))\n",
    "\t\tnames += [('var%d(t-%d)' % (j+1, i)) for j in range(n_vars)]\n",
    "\t# forecast sequence (t, t+1, ... t+n)\n",
    "\tfor i in range(0, n_out):\n",
    "\t\tcols.append(df.shift(-i))\n",
    "\t\tif i == 0:\n",
    "\t\t\tnames += [('var%d(t)' % (j+1)) for j in range(n_vars)]\n",
    "\t\telse:\n",
    "\t\t\tnames += [('var%d(t+%d)' % (j+1, i)) for j in range(n_vars)]\n",
    "\t# put it all together\n",
    "\tagg = concat(cols, axis=1)\n",
    "\tagg.columns = names\n",
    "\t# drop rows with NaN values\n",
    "\tif dropnan:\n",
    "\t\tagg.dropna(inplace=True)\n",
    "\treturn agg"
   ]
  },
  {
   "cell_type": "markdown",
   "metadata": {},
   "source": [
    "# load dataset\n",
    "Data since 2010 to 2015"
   ]
  },
  {
   "cell_type": "code",
   "execution_count": 166,
   "metadata": {
    "collapsed": true
   },
   "outputs": [],
   "source": [
    "#TO DO : create a function to preprocess the data\n",
    "@memory.cache\n",
    "def get_ili_data(data, normalize=True):\n",
    "    \n",
    "    df = read_csv(data, index_col=3, header=0)\n",
    "    \n",
    "    # manually specify column names\n",
    "    df.columns = ['statename','activity_level','activity_level_label','season','weeknumber','Latitude','Longitude']\n",
    "    df.index.name = 'date'\n",
    "    \n",
    "    # convert index to datetime\n",
    "    df.index = pd.to_datetime(df.index, format='%b-%d-%Y')\n",
    "    \n",
    "    # manually remove the feature we don;t want to evaluate \n",
    "    df.drop(['statename', 'season', 'weeknumber','activity_level_label'], axis=1, inplace=True)\n",
    "    \n",
    "    if normalize:        \n",
    "        min_max_scaler = MinMaxScaler()\n",
    "        df['activity_level'] = min_max_scaler.fit_transform(df.activity_level.values.reshape(-1,1))\n",
    "        df['Latitude'] = min_max_scaler.fit_transform(df.Latitude.values.reshape(-1,1))\n",
    "        df['Longitude'] = min_max_scaler.fit_transform(df.Longitude.values.reshape(-1,1))\n",
    "    return df"
   ]
  },
  {
   "cell_type": "code",
   "execution_count": 167,
   "metadata": {},
   "outputs": [
    {
     "name": "stdout",
     "output_type": "stream",
     "text": [
      "            activity_level   Latitude  Longitude\n",
      "date                                            \n",
      "2016-10-01               1  32.806671  -86.79113\n",
      "2016-09-24               1  32.806671  -86.79113\n",
      "2016-09-17               1  32.806671  -86.79113\n",
      "2016-09-10               1  32.806671  -86.79113\n",
      "2016-09-03               1  32.806671  -86.79113\n"
     ]
    }
   ],
   "source": [
    "data = '../data/raw.csv'\n",
    "#df = get_ili_data(data, normalize=True)\n",
    "values = df.values\n",
    "df = read_csv(data, index_col=3, header=0)\n",
    "\n",
    "# manually specify column names\n",
    "df.columns = ['statename','activity_level','activity_level_label','season','weeknumber','Latitude','Longitude']\n",
    "df.index.name = 'date'\n",
    "    \n",
    "# convert index to datetime\n",
    "df.index = pd.to_datetime(df.index, format='%b-%d-%Y')\n",
    "    \n",
    "# manually remove the feature we don;t want to evaluate \n",
    "df.drop(['statename', 'season', 'weeknumber','activity_level_label'], axis=1, inplace=True)\n",
    "\n",
    "# summarize first 5 rows\n",
    "print(df.head(5))\n",
    "# ensure all data is float\n",
    "values = values.astype('float32')\n",
    "# normalize features\n",
    "scaler = MinMaxScaler(feature_range=(0, 1))\n",
    "scaled = scaler.fit_transform(values)"
   ]
  },
  {
   "cell_type": "markdown",
   "metadata": {},
   "source": [
    "# 2. Plot out the ILI activity level"
   ]
  },
  {
   "cell_type": "code",
   "execution_count": 168,
   "metadata": {
    "collapsed": true
   },
   "outputs": [],
   "source": [
    "def plot_ili(data):\n",
    "    df = get_ili_data(data, normalize=True)\n",
    "    print(df.head())\n",
    "    plt.plot(df['activity_level'].values, color='red', label='ILI activity')\n",
    "    plt.legend(loc='best')\n",
    "    plt.show()\n",
    "    \n",
    "def plot_ili_group(data):\n",
    "    df = get_ili_data(data, normalize=False)\n",
    "    print(df.head())\n",
    "    values = df.values\n",
    "    # specify columns to plot\n",
    "    groups = [0,1,2]\n",
    "    i = 1\n",
    "    # plot each column\n",
    "    plt.figure()\n",
    "    for group in groups:\n",
    "        plt.subplot(len(groups), 1, i)\n",
    "        plt.plot(values[:, group])\n",
    "        plt.title(df.columns[group], y=0.5, loc='right')\n",
    "        plt.legend(loc='best')\n",
    "        i += 1\n",
    "    plt.show()\n"
   ]
  },
  {
   "cell_type": "code",
   "execution_count": 169,
   "metadata": {
    "scrolled": true
   },
   "outputs": [
    {
     "name": "stdout",
     "output_type": "stream",
     "text": [
      "            activity_level   Latitude  Longitude\n",
      "date                                            \n",
      "2016-10-01               1  32.806671  -86.79113\n",
      "2016-09-24               1  32.806671  -86.79113\n",
      "2016-09-17               1  32.806671  -86.79113\n",
      "2016-09-10               1  32.806671  -86.79113\n",
      "2016-09-03               1  32.806671  -86.79113\n"
     ]
    },
    {
     "name": "stderr",
     "output_type": "stream",
     "text": [
      "/anaconda/lib/python3.6/site-packages/matplotlib/axes/_axes.py:545: UserWarning: No labelled objects found. Use label='...' kwarg on individual plots.\n",
      "  warnings.warn(\"No labelled objects found. \"\n"
     ]
    },
    {
     "data": {
      "image/png": "[encoded data removed]",
      "text/plain": [
       "<matplotlib.figure.Figure at 0x1315c0080>"
      ]
     },
     "metadata": {},
     "output_type": "display_data"
    }
   ],
   "source": [
    "data = '../data/raw.csv'\n",
    "\n",
    "# plot_ili(data)\n",
    "plot_ili_group(data)"
   ]
  },
  {
   "cell_type": "markdown",
   "metadata": {},
   "source": [
    "# frame as supervised learning"
   ]
  },
  {
   "cell_type": "code",
   "execution_count": 170,
   "metadata": {},
   "outputs": [
    {
     "name": "stdout",
     "output_type": "stream",
     "text": [
      "    var1(t-8)  var2(t-8)  var3(t-8)  var1(t-7)  var2(t-7)  var3(t-7)  \\\n",
      "8         0.1   0.290799   0.802429        0.1   0.290799   0.802429   \n",
      "9         0.1   0.290799   0.802429        0.1   0.290799   0.802429   \n",
      "10        0.1   0.290799   0.802429        0.1   0.290799   0.802429   \n",
      "11        0.1   0.290799   0.802429        0.1   0.290799   0.802429   \n",
      "12        0.1   0.290799   0.802429        0.1   0.290799   0.802429   \n",
      "\n",
      "    var1(t-6)  var2(t-6)  var3(t-6)  var1(t-5)    ...       var3(t)  \\\n",
      "8         0.1   0.290799   0.802429        0.1    ...      0.802429   \n",
      "9         0.1   0.290799   0.802429        0.1    ...      0.802429   \n",
      "10        0.1   0.290799   0.802429        0.1    ...      0.802429   \n",
      "11        0.1   0.290799   0.802429        0.1    ...      0.802429   \n",
      "12        0.1   0.290799   0.802429        0.1    ...      0.802429   \n",
      "\n",
      "    var1(t+1)  var2(t+1)  var3(t+1)  var1(t+2)  var2(t+2)  var3(t+2)  \\\n",
      "8         0.1   0.290799   0.802429        0.1   0.290799   0.802429   \n",
      "9         0.1   0.290799   0.802429        0.1   0.290799   0.802429   \n",
      "10        0.1   0.290799   0.802429        0.1   0.290799   0.802429   \n",
      "11        0.1   0.290799   0.802429        0.1   0.290799   0.802429   \n",
      "12        0.1   0.290799   0.802429        0.1   0.290799   0.802429   \n",
      "\n",
      "    var1(t+3)  var2(t+3)  var3(t+3)  \n",
      "8         0.1   0.290799   0.802429  \n",
      "9         0.1   0.290799   0.802429  \n",
      "10        0.1   0.290799   0.802429  \n",
      "11        0.1   0.290799   0.802429  \n",
      "12        0.1   0.290799   0.802429  \n",
      "\n",
      "[5 rows x 36 columns]\n"
     ]
    }
   ],
   "source": [
    "reframed = series_to_supervised(scaled, 8, 4)\n",
    "print(reframed.head())"
   ]
  },
  {
   "cell_type": "markdown",
   "metadata": {},
   "source": [
    "# split into train and test sets"
   ]
  },
  {
   "cell_type": "code",
   "execution_count": 171,
   "metadata": {
    "collapsed": true
   },
   "outputs": [
    {
     "name": "stdout",
     "output_type": "stream",
     "text": [
      "Amount of training data = 12738\n",
      "Amount of testing data = 3184\n",
      "(12738, 1, 35) (12738,) (3184, 1, 35) (3184,)\n"
     ]
    }
   ],
   "source": [
    "values = reframed.values\n",
    "n_train_weeks = round(0.8*len(values))\n",
    "train = values[:n_train_weeks, :]\n",
    "test = values[n_train_weeks:, :]\n",
    "\n",
    "print (\"Amount of training data = {}\".format(1 * train.shape[0]))\n",
    "print (\"Amount of testing data = {}\".format(1 * test.shape[0]))\n",
    "\n",
    "# split into input and outputs\n",
    "train_X, train_y = train[:, :-1], train[:, -1]\n",
    "test_X, test_y = test[:, :-1], test[:, -1]\n",
    "# reshape input to be 3D [samples, timesteps, features]\n",
    "train_X = train_X.reshape((train_X.shape[0], 1, train_X.shape[1]))\n",
    "test_X = test_X.reshape((test_X.shape[0], 1, test_X.shape[1]))\n",
    "print(train_X.shape, train_y.shape, test_X.shape, test_y.shape)"
   ]
  },
  {
   "cell_type": "markdown",
   "metadata": {},
   "source": [
    "# design network"
   ]
  },
  {
   "cell_type": "code",
   "execution_count": 172,
   "metadata": {},
   "outputs": [
    {
     "name": "stdout",
     "output_type": "stream",
     "text": [
      "(3184, 1, 35)\n"
     ]
    }
   ],
   "source": [
    "model = Sequential()\n",
    "model.add(LSTM(50, input_shape=(train_X.shape[1], train_X.shape[2])))\n",
    "model.add(Dense(1))\n",
    "model.compile(loss='mae', optimizer='adam')\n",
    "print(test_X.shape)"
   ]
  },
  {
   "cell_type": "markdown",
   "metadata": {},
   "source": [
    "# fit network"
   ]
  },
  {
   "cell_type": "code",
   "execution_count": 173,
   "metadata": {},
   "outputs": [
    {
     "name": "stdout",
     "output_type": "stream",
     "text": [
      "Train on 12738 samples, validate on 3184 samples\n",
      "Epoch 1/50\n",
      "1s - loss: 0.1268 - val_loss: 0.0635\n",
      "Epoch 2/50\n",
      "1s - loss: 0.0243 - val_loss: 0.0267\n",
      "Epoch 3/50\n",
      "1s - loss: 0.0241 - val_loss: 0.0156\n",
      "Epoch 4/50\n",
      "1s - loss: 0.0265 - val_loss: 0.0681\n",
      "Epoch 5/50\n",
      "1s - loss: 0.0183 - val_loss: 0.0194\n",
      "Epoch 6/50\n",
      "1s - loss: 0.0191 - val_loss: 0.0158\n",
      "Epoch 7/50\n",
      "1s - loss: 0.0208 - val_loss: 0.0112\n",
      "Epoch 8/50\n",
      "1s - loss: 0.0147 - val_loss: 0.0220\n",
      "Epoch 9/50\n",
      "1s - loss: 0.0144 - val_loss: 0.0119\n",
      "Epoch 10/50\n",
      "1s - loss: 0.0171 - val_loss: 0.0168\n",
      "Epoch 11/50\n",
      "1s - loss: 0.0161 - val_loss: 0.0090\n",
      "Epoch 12/50\n",
      "1s - loss: 0.0148 - val_loss: 0.0139\n",
      "Epoch 13/50\n",
      "1s - loss: 0.0161 - val_loss: 0.0172\n",
      "Epoch 14/50\n",
      "1s - loss: 0.0158 - val_loss: 0.0124\n",
      "Epoch 15/50\n",
      "1s - loss: 0.0160 - val_loss: 0.0142\n",
      "Epoch 16/50\n",
      "1s - loss: 0.0173 - val_loss: 0.0216\n",
      "Epoch 17/50\n",
      "1s - loss: 0.0192 - val_loss: 0.0320\n",
      "Epoch 18/50\n",
      "1s - loss: 0.0124 - val_loss: 0.0106\n",
      "Epoch 19/50\n",
      "1s - loss: 0.0131 - val_loss: 0.0122\n",
      "Epoch 20/50\n",
      "1s - loss: 0.0151 - val_loss: 0.0106\n",
      "Epoch 21/50\n",
      "1s - loss: 0.0135 - val_loss: 0.0132\n",
      "Epoch 22/50\n",
      "1s - loss: 0.0148 - val_loss: 0.0187\n",
      "Epoch 23/50\n",
      "1s - loss: 0.0168 - val_loss: 0.0174\n",
      "Epoch 24/50\n",
      "1s - loss: 0.0161 - val_loss: 0.0151\n",
      "Epoch 25/50\n",
      "1s - loss: 0.0135 - val_loss: 0.0200\n",
      "Epoch 26/50\n",
      "1s - loss: 0.0132 - val_loss: 0.0136\n",
      "Epoch 27/50\n",
      "1s - loss: 0.0144 - val_loss: 0.0084\n",
      "Epoch 28/50\n",
      "1s - loss: 0.0111 - val_loss: 0.0086\n",
      "Epoch 29/50\n",
      "1s - loss: 0.0130 - val_loss: 0.0191\n",
      "Epoch 30/50\n",
      "1s - loss: 0.0120 - val_loss: 0.0126\n",
      "Epoch 31/50\n",
      "1s - loss: 0.0148 - val_loss: 0.0087\n",
      "Epoch 32/50\n",
      "1s - loss: 0.0131 - val_loss: 0.0119\n",
      "Epoch 33/50\n",
      "1s - loss: 0.0161 - val_loss: 0.0145\n",
      "Epoch 34/50\n",
      "1s - loss: 0.0149 - val_loss: 0.0153\n",
      "Epoch 35/50\n",
      "1s - loss: 0.0107 - val_loss: 0.0080\n",
      "Epoch 36/50\n",
      "1s - loss: 0.0175 - val_loss: 0.0192\n",
      "Epoch 37/50\n",
      "1s - loss: 0.0156 - val_loss: 0.0124\n",
      "Epoch 38/50\n",
      "1s - loss: 0.0128 - val_loss: 0.0219\n",
      "Epoch 39/50\n",
      "1s - loss: 0.0146 - val_loss: 0.0131\n",
      "Epoch 40/50\n",
      "1s - loss: 0.0123 - val_loss: 0.0145\n",
      "Epoch 41/50\n",
      "1s - loss: 0.0144 - val_loss: 0.0166\n",
      "Epoch 42/50\n",
      "1s - loss: 0.0175 - val_loss: 0.0118\n",
      "Epoch 43/50\n",
      "1s - loss: 0.0152 - val_loss: 0.0098\n",
      "Epoch 44/50\n",
      "1s - loss: 0.0164 - val_loss: 0.0091\n",
      "Epoch 45/50\n",
      "1s - loss: 0.0118 - val_loss: 0.0163\n",
      "Epoch 46/50\n",
      "1s - loss: 0.0131 - val_loss: 0.0078\n",
      "Epoch 47/50\n",
      "1s - loss: 0.0158 - val_loss: 0.0107\n",
      "Epoch 48/50\n",
      "1s - loss: 0.0136 - val_loss: 0.0168\n",
      "Epoch 49/50\n",
      "1s - loss: 0.0137 - val_loss: 0.0176\n",
      "Epoch 50/50\n",
      "1s - loss: 0.0146 - val_loss: 0.0089\n"
     ]
    },
    {
     "data": {
      "image/png": "[encoded data removed]",
      "text/plain": [
       "<matplotlib.figure.Figure at 0x12e1076a0>"
      ]
     },
     "metadata": {},
     "output_type": "display_data"
    }
   ],
   "source": [
    "history = model.fit(train_X, train_y, epochs=50, batch_size=72, validation_data=(test_X, test_y), verbose=2, shuffle=False)\n",
    "# plot history\n",
    "pyplot.plot(history.history['loss'], label='train')\n",
    "pyplot.plot(history.history['val_loss'], label='test')\n",
    "pyplot.legend()\n",
    "pyplot.show()"
   ]
  },
  {
   "cell_type": "markdown",
   "metadata": {},
   "source": [
    "# make a prediction"
   ]
  },
  {
   "cell_type": "code",
   "execution_count": 174,
   "metadata": {},
   "outputs": [
    {
     "data": {
      "text/plain": [
       "(3184, 1, 35)"
      ]
     },
     "execution_count": 174,
     "metadata": {},
     "output_type": "execute_result"
    }
   ],
   "source": [
    "test_X.shape"
   ]
  },
  {
   "cell_type": "code",
   "execution_count": 175,
   "metadata": {
    "collapsed": true
   },
   "outputs": [
    {
     "ename": "ValueError",
     "evalue": "operands could not be broadcast together with shapes (3184,35) (3,) (3184,35) ",
     "output_type": "error",
     "traceback": [
      "\u001b[0;31m---------------------------------------------------------------------------\u001b[0m",
      "\u001b[0;31mValueError\u001b[0m                                Traceback (most recent call last)",
      "\u001b[0;32m<ipython-input-175-1ddb873d4918>\u001b[0m in \u001b[0;36m<module>\u001b[0;34m()\u001b[0m\n\u001b[1;32m      4\u001b[0m \u001b[0;31m# invert scaling for forecast\u001b[0m\u001b[0;34m\u001b[0m\u001b[0;34m\u001b[0m\u001b[0m\n\u001b[1;32m      5\u001b[0m \u001b[0minv_yhat\u001b[0m \u001b[0;34m=\u001b[0m \u001b[0mconcatenate\u001b[0m\u001b[0;34m(\u001b[0m\u001b[0;34m(\u001b[0m\u001b[0myhat\u001b[0m\u001b[0;34m,\u001b[0m \u001b[0mtest_X\u001b[0m\u001b[0;34m[\u001b[0m\u001b[0;34m:\u001b[0m\u001b[0;34m,\u001b[0m \u001b[0;36m1\u001b[0m\u001b[0;34m:\u001b[0m\u001b[0;34m]\u001b[0m\u001b[0;34m)\u001b[0m\u001b[0;34m,\u001b[0m \u001b[0maxis\u001b[0m\u001b[0;34m=\u001b[0m\u001b[0;36m1\u001b[0m\u001b[0;34m)\u001b[0m\u001b[0;34m\u001b[0m\u001b[0m\n\u001b[0;32m----> 6\u001b[0;31m \u001b[0minv_yhat\u001b[0m \u001b[0;34m=\u001b[0m \u001b[0mscaler\u001b[0m\u001b[0;34m.\u001b[0m\u001b[0minverse_transform\u001b[0m\u001b[0;34m(\u001b[0m\u001b[0minv_yhat\u001b[0m\u001b[0;34m)\u001b[0m\u001b[0;34m\u001b[0m\u001b[0m\n\u001b[0m\u001b[1;32m      7\u001b[0m \u001b[0minv_yhat\u001b[0m \u001b[0;34m=\u001b[0m \u001b[0minv_yhat\u001b[0m\u001b[0;34m[\u001b[0m\u001b[0;34m:\u001b[0m\u001b[0;34m,\u001b[0m\u001b[0;36m0\u001b[0m\u001b[0;34m]\u001b[0m\u001b[0;34m\u001b[0m\u001b[0m\n\u001b[1;32m      8\u001b[0m \u001b[0;31m# invert scaling for actual\u001b[0m\u001b[0;34m\u001b[0m\u001b[0;34m\u001b[0m\u001b[0m\n",
      "\u001b[0;32m/anaconda/lib/python3.6/site-packages/sklearn/preprocessing/data.py\u001b[0m in \u001b[0;36minverse_transform\u001b[0;34m(self, X)\u001b[0m\n\u001b[1;32m    383\u001b[0m         \u001b[0mX\u001b[0m \u001b[0;34m=\u001b[0m \u001b[0mcheck_array\u001b[0m\u001b[0;34m(\u001b[0m\u001b[0mX\u001b[0m\u001b[0;34m,\u001b[0m \u001b[0mcopy\u001b[0m\u001b[0;34m=\u001b[0m\u001b[0mself\u001b[0m\u001b[0;34m.\u001b[0m\u001b[0mcopy\u001b[0m\u001b[0;34m,\u001b[0m \u001b[0mdtype\u001b[0m\u001b[0;34m=\u001b[0m\u001b[0mFLOAT_DTYPES\u001b[0m\u001b[0;34m)\u001b[0m\u001b[0;34m\u001b[0m\u001b[0m\n\u001b[1;32m    384\u001b[0m \u001b[0;34m\u001b[0m\u001b[0m\n\u001b[0;32m--> 385\u001b[0;31m         \u001b[0mX\u001b[0m \u001b[0;34m-=\u001b[0m \u001b[0mself\u001b[0m\u001b[0;34m.\u001b[0m\u001b[0mmin_\u001b[0m\u001b[0;34m\u001b[0m\u001b[0m\n\u001b[0m\u001b[1;32m    386\u001b[0m         \u001b[0mX\u001b[0m \u001b[0;34m/=\u001b[0m \u001b[0mself\u001b[0m\u001b[0;34m.\u001b[0m\u001b[0mscale_\u001b[0m\u001b[0;34m\u001b[0m\u001b[0m\n\u001b[1;32m    387\u001b[0m         \u001b[0;32mreturn\u001b[0m \u001b[0mX\u001b[0m\u001b[0;34m\u001b[0m\u001b[0m\n",
      "\u001b[0;31mValueError\u001b[0m: operands could not be broadcast together with shapes (3184,35) (3,) (3184,35) "
     ]
    }
   ],
   "source": [
    "# make a prediction\n",
    "yhat = model.predict(test_X)\n",
    "test_  X = test_X.reshape((test_X.shape[0], test_X.shape[2]))\n",
    "# invert scaling for forecast\n",
    "inv_yhat = concatenate((yhat, test_X[:, 1:]), axis=1)\n",
    "inv_yhat = scaler.inverse_transform(inv_yhat)\n",
    "inv_yhat = inv_yhat[:,0]\n",
    "# invert scaling for actual\n",
    "test_y = test_y.reshape((len(test_y), 1))  \n",
    "inv_y = concatenate((test_y, test_X[:, 1:]), axis=1)\n",
    "inv_y = scaler.inverse_transform(inv_y)\n",
    "inv_y = inv_y[:,0]\n",
    "# calculate RMSE\n",
    "rmse = sqrt(mean_squared_error(inv_y, inv_yhat))\n",
    "print('Test RMSE: %.3f' % rmse)"
   ]
  },
  {
   "cell_type": "markdown",
   "metadata": {},
   "source": [
    "# 10. Save for consistency"
   ]
  },
  {
   "cell_type": "code",
   "execution_count": null,
   "metadata": {
    "collapsed": true
   },
   "outputs": [],
   "source": [
    "# model.save('LSTM_Stock_prediction-20170429.h5')"
   ]
  },
  {
   "cell_type": "code",
   "execution_count": null,
   "metadata": {
    "collapsed": true
   },
   "outputs": [],
   "source": []
  }
 ],
 "metadata": {
  "kernelspec": {
   "display_name": "Python 3",
   "language": "python",
   "name": "python3"
  },
  "language_info": {
   "codemirror_mode": {
    "name": "ipython",
    "version": 3
   },
   "file_extension": ".py",
   "mimetype": "text/x-python",
   "name": "python",
   "nbconvert_exporter": "python",
   "pygments_lexer": "ipython3",
   "version": "3.6.3"
  }
 },
 "nbformat": 4,
 "nbformat_minor": 2
}
