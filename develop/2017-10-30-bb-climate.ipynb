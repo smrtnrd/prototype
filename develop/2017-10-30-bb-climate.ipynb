{
 "cells": [
  {
   "cell_type": "markdown",
   "metadata": {},
   "source": [
    "## Data Preparation & Exploration for Climate (ulmo)\n",
    "\n",
    "I want to merge the data from GSOD to my ILI data by getting a summary of the data by position\n",
    "-  exploring daymet : daily temperature, precipitation for any locationsion in the US [reference](https://github.com/ulmo-dev/ulmo/blob/master/examples/Using%20Daymet%20weather%20data%20from%20ORNL%20webservice.ipynb)"
   ]
  },
  {
   "cell_type": "code",
   "execution_count": 1,
   "metadata": {},
   "outputs": [
    {
     "name": "stderr",
     "output_type": "stream",
     "text": [
      "/anaconda/lib/python3.6/site-packages/ulmo/twc/kbdi/core.py:20: FutureWarning: pandas.tslib is deprecated and will be removed in a future version.\n",
      "You can access Timestamp as pandas.Timestamp\n",
      "  CSV_SWITCHOVER = pandas.tslib.Timestamp('2016-10-01')\n"
     ]
    }
   ],
   "source": [
    "# import packages and modules\n",
    "from ulmo.nasa import daymet\n",
    "from delphi_epidata import Epidata\n",
    "\n",
    "import pandas as pd\n",
    "import numpy as np\n",
    "import matplotlib.pyplot as plt\n",
    "import seaborn as sns\n",
    "from sklearn.preprocessing import Imputer\n",
    "from sklearn.preprocessing import PolynomialFeatures\n",
    "from sklearn.preprocessing import StandardScaler\n",
    "from sklearn.feature_selection import VarianceThreshold\n",
    "from sklearn.utils import shuffle\n",
    "\n",
    "pd.set_option('display.max_columns', 100)"
   ]
  },
  {
   "cell_type": "code",
   "execution_count": 89,
   "metadata": {},
   "outputs": [
    {
     "data": {
      "text/plain": [
       "0       -86.791130\n",
       "313    -152.404419\n",
       "626    -111.431221\n",
       "939     -92.373123\n",
       "1252   -119.681564\n",
       "Name: Longitude, dtype: float64"
      ]
     },
     "execution_count": 89,
     "metadata": {},
     "output_type": "execute_result"
    }
   ],
   "source": [
    "#test\n",
    "ili_test = pd.read_csv(\"../data/raw.csv\")\n",
    "\n",
    "x = ili_test['Latitude'].drop_duplicates()\n",
    "y = ili_test['Longitude'].drop_duplicates()\n",
    "state = ili_test['statename'].drop_duplicates()\n",
    "ili_climate = {}\n",
    "\n",
    "y.head()\n"
   ]
  },
  {
   "cell_type": "code",
   "execution_count": null,
   "metadata": {
    "collapsed": true
   },
   "outputs": [],
   "source": [
    "for i in range(len(ili_test['Latitude'])):\n",
    "    s=state[i]\n",
    "    ili_climate[s] = daymet.get_daymet_singlepixel(longitude=y[i], latitude=x[i], \n",
    "                                   years=[2010,2015])\n",
    "print(ili_climate)"
   ]
  },
  {
   "cell_type": "code",
   "execution_count": 13,
   "metadata": {},
   "outputs": [
    {
     "name": "stdout",
     "output_type": "stream",
     "text": [
      "1 success 11\n"
     ]
    }
   ],
   "source": [
    "\n",
    "\n",
    "res = Epidata.fluview(['nat'], [201440, Epidata.range(201501, 201510)])\n",
    "print(res['result'], res['message'], len(res['epidata']))"
   ]
  },
  {
   "cell_type": "code",
   "execution_count": 121,
   "metadata": {},
   "outputs": [
    {
     "name": "stderr",
     "output_type": "stream",
     "text": [
      "making request for latitude, longitude: 35.9313167, -84.3104124\n",
      "processing data from request: https://daymet.ornl.gov/data/send/saveData?lat=35.9313167&lon=-84.3104124&measuredParams=tmax,tmin,prcp&year=2012,2013&lat=35.9313167&lon=-84.3104124&vars=tmax%2Ctmin%2Cprcp&years=2012%2C2013\n"
     ]
    },
    {
     "data": {
      "text/html": [
       "<div>\n",
       "<style>\n",
       "    .dataframe thead tr:only-child th {\n",
       "        text-align: right;\n",
       "    }\n",
       "\n",
       "    .dataframe thead th {\n",
       "        text-align: left;\n",
       "    }\n",
       "\n",
       "    .dataframe tbody tr th {\n",
       "        vertical-align: top;\n",
       "    }\n",
       "</style>\n",
       "<table border=\"1\" class=\"dataframe\">\n",
       "  <thead>\n",
       "    <tr style=\"text-align: right;\">\n",
       "      <th></th>\n",
       "      <th>year</th>\n",
       "      <th>yday</th>\n",
       "      <th>prcp</th>\n",
       "      <th>tmax</th>\n",
       "      <th>tmin</th>\n",
       "    </tr>\n",
       "  </thead>\n",
       "  <tbody>\n",
       "    <tr>\n",
       "      <th>2012-01-01</th>\n",
       "      <td>2012</td>\n",
       "      <td>1</td>\n",
       "      <td>0.0</td>\n",
       "      <td>15.5</td>\n",
       "      <td>1.0</td>\n",
       "    </tr>\n",
       "    <tr>\n",
       "      <th>2012-01-02</th>\n",
       "      <td>2012</td>\n",
       "      <td>2</td>\n",
       "      <td>3.0</td>\n",
       "      <td>10.0</td>\n",
       "      <td>-3.0</td>\n",
       "    </tr>\n",
       "    <tr>\n",
       "      <th>2012-01-03</th>\n",
       "      <td>2012</td>\n",
       "      <td>3</td>\n",
       "      <td>0.0</td>\n",
       "      <td>2.0</td>\n",
       "      <td>-7.0</td>\n",
       "    </tr>\n",
       "    <tr>\n",
       "      <th>2012-01-04</th>\n",
       "      <td>2012</td>\n",
       "      <td>4</td>\n",
       "      <td>0.0</td>\n",
       "      <td>4.5</td>\n",
       "      <td>-8.0</td>\n",
       "    </tr>\n",
       "    <tr>\n",
       "      <th>2012-01-05</th>\n",
       "      <td>2012</td>\n",
       "      <td>5</td>\n",
       "      <td>0.0</td>\n",
       "      <td>10.0</td>\n",
       "      <td>-4.0</td>\n",
       "    </tr>\n",
       "  </tbody>\n",
       "</table>\n",
       "</div>"
      ],
      "text/plain": [
       "            year  yday  prcp  tmax  tmin\n",
       "2012-01-01  2012     1   0.0  15.5   1.0\n",
       "2012-01-02  2012     2   3.0  10.0  -3.0\n",
       "2012-01-03  2012     3   0.0   2.0  -7.0\n",
       "2012-01-04  2012     4   0.0   4.5  -8.0\n",
       "2012-01-05  2012     5   0.0  10.0  -4.0"
      ]
     },
     "execution_count": 121,
     "metadata": {},
     "output_type": "execute_result"
    }
   ],
   "source": [
    "#test\n",
    "ornl_lat, ornl_long = 35.9313167, -84.3104124\n",
    "df = daymet.get_daymet_singlepixel(longitude=ornl_long, latitude=ornl_lat, \n",
    "                                   years=[2012,2013])\n",
    "df.head()"
   ]
  },
  {
   "cell_type": "code",
   "execution_count": 122,
   "metadata": {},
   "outputs": [
    {
     "data": {
      "text/plain": [
       "Int64Index([2012, 2012, 2012, 2012, 2012, 2012, 2012, 2012, 2012, 2012,\n",
       "            ...\n",
       "            2013, 2013, 2013, 2013, 2013, 2013, 2013, 2013, 2013, 2013],\n",
       "           dtype='int64', length=730)"
      ]
     },
     "execution_count": 122,
     "metadata": {},
     "output_type": "execute_result"
    }
   ],
   "source": [
    "df.index.year"
   ]
  },
  {
   "cell_type": "code",
   "execution_count": 123,
   "metadata": {},
   "outputs": [
    {
     "data": {
      "text/html": [
       "<div>\n",
       "<style>\n",
       "    .dataframe thead tr:only-child th {\n",
       "        text-align: right;\n",
       "    }\n",
       "\n",
       "    .dataframe thead th {\n",
       "        text-align: left;\n",
       "    }\n",
       "\n",
       "    .dataframe tbody tr th {\n",
       "        vertical-align: top;\n",
       "    }\n",
       "</style>\n",
       "<table border=\"1\" class=\"dataframe\">\n",
       "  <thead>\n",
       "    <tr style=\"text-align: right;\">\n",
       "      <th></th>\n",
       "      <th>year</th>\n",
       "      <th>yday</th>\n",
       "      <th>prcp</th>\n",
       "      <th>tmax</th>\n",
       "      <th>tmin</th>\n",
       "      <th>month</th>\n",
       "      <th>day</th>\n",
       "    </tr>\n",
       "  </thead>\n",
       "  <tbody>\n",
       "    <tr>\n",
       "      <th>2012-01-01</th>\n",
       "      <td>2012</td>\n",
       "      <td>1</td>\n",
       "      <td>0.0</td>\n",
       "      <td>15.5</td>\n",
       "      <td>1.0</td>\n",
       "      <td>1</td>\n",
       "      <td>1</td>\n",
       "    </tr>\n",
       "    <tr>\n",
       "      <th>2012-01-02</th>\n",
       "      <td>2012</td>\n",
       "      <td>2</td>\n",
       "      <td>3.0</td>\n",
       "      <td>10.0</td>\n",
       "      <td>-3.0</td>\n",
       "      <td>1</td>\n",
       "      <td>2</td>\n",
       "    </tr>\n",
       "    <tr>\n",
       "      <th>2012-01-03</th>\n",
       "      <td>2012</td>\n",
       "      <td>3</td>\n",
       "      <td>0.0</td>\n",
       "      <td>2.0</td>\n",
       "      <td>-7.0</td>\n",
       "      <td>1</td>\n",
       "      <td>3</td>\n",
       "    </tr>\n",
       "    <tr>\n",
       "      <th>2012-01-04</th>\n",
       "      <td>2012</td>\n",
       "      <td>4</td>\n",
       "      <td>0.0</td>\n",
       "      <td>4.5</td>\n",
       "      <td>-8.0</td>\n",
       "      <td>1</td>\n",
       "      <td>4</td>\n",
       "    </tr>\n",
       "    <tr>\n",
       "      <th>2012-01-05</th>\n",
       "      <td>2012</td>\n",
       "      <td>5</td>\n",
       "      <td>0.0</td>\n",
       "      <td>10.0</td>\n",
       "      <td>-4.0</td>\n",
       "      <td>1</td>\n",
       "      <td>5</td>\n",
       "    </tr>\n",
       "  </tbody>\n",
       "</table>\n",
       "</div>"
      ],
      "text/plain": [
       "            year  yday  prcp  tmax  tmin  month  day\n",
       "2012-01-01  2012     1   0.0  15.5   1.0      1    1\n",
       "2012-01-02  2012     2   3.0  10.0  -3.0      1    2\n",
       "2012-01-03  2012     3   0.0   2.0  -7.0      1    3\n",
       "2012-01-04  2012     4   0.0   4.5  -8.0      1    4\n",
       "2012-01-05  2012     5   0.0  10.0  -4.0      1    5"
      ]
     },
     "execution_count": 123,
     "metadata": {},
     "output_type": "execute_result"
    }
   ],
   "source": [
    "df['year'] = df.index.year\n",
    "df['month'] = df.index.month\n",
    "df['day'] = df.index.day\n",
    "#df.drop('index', axis=0, inplace=True)\n",
    "df.head()"
   ]
  },
  {
   "cell_type": "markdown",
   "metadata": {},
   "source": [
    "[Pandas dataframe groupeby datetime month](https://stackoverflow.com/questions/24082784/pandas-dataframe-groupby-datetime-month)\n"
   ]
  },
  {
   "cell_type": "code",
   "execution_count": 124,
   "metadata": {},
   "outputs": [
    {
     "data": {
      "text/plain": [
       "(730, 7)"
      ]
     },
     "execution_count": 124,
     "metadata": {},
     "output_type": "execute_result"
    }
   ],
   "source": [
    "df.shape"
   ]
  },
  {
   "cell_type": "code",
   "execution_count": 127,
   "metadata": {},
   "outputs": [
    {
     "data": {
      "text/html": [
       "<div>\n",
       "<style>\n",
       "    .dataframe thead tr:only-child th {\n",
       "        text-align: right;\n",
       "    }\n",
       "\n",
       "    .dataframe thead th {\n",
       "        text-align: left;\n",
       "    }\n",
       "\n",
       "    .dataframe tbody tr th {\n",
       "        vertical-align: top;\n",
       "    }\n",
       "</style>\n",
       "<table border=\"1\" class=\"dataframe\">\n",
       "  <thead>\n",
       "    <tr style=\"text-align: right;\">\n",
       "      <th></th>\n",
       "      <th>mean_prcp</th>\n",
       "      <th>mean_tmax</th>\n",
       "      <th>mean_tmin</th>\n",
       "    </tr>\n",
       "  </thead>\n",
       "  <tbody>\n",
       "    <tr>\n",
       "      <th>2012-01-31</th>\n",
       "      <td>5.548387</td>\n",
       "      <td>11.193548</td>\n",
       "      <td>0.000000</td>\n",
       "    </tr>\n",
       "    <tr>\n",
       "      <th>2012-02-29</th>\n",
       "      <td>3.413793</td>\n",
       "      <td>13.189655</td>\n",
       "      <td>1.379310</td>\n",
       "    </tr>\n",
       "    <tr>\n",
       "      <th>2012-03-31</th>\n",
       "      <td>4.193548</td>\n",
       "      <td>22.532258</td>\n",
       "      <td>8.580645</td>\n",
       "    </tr>\n",
       "    <tr>\n",
       "      <th>2012-04-30</th>\n",
       "      <td>3.866667</td>\n",
       "      <td>23.066667</td>\n",
       "      <td>9.066667</td>\n",
       "    </tr>\n",
       "    <tr>\n",
       "      <th>2012-05-31</th>\n",
       "      <td>3.290323</td>\n",
       "      <td>28.000000</td>\n",
       "      <td>15.564516</td>\n",
       "    </tr>\n",
       "    <tr>\n",
       "      <th>2012-06-30</th>\n",
       "      <td>1.533333</td>\n",
       "      <td>30.833333</td>\n",
       "      <td>16.883333</td>\n",
       "    </tr>\n",
       "    <tr>\n",
       "      <th>2012-07-31</th>\n",
       "      <td>7.193548</td>\n",
       "      <td>32.967742</td>\n",
       "      <td>21.112903</td>\n",
       "    </tr>\n",
       "    <tr>\n",
       "      <th>2012-08-31</th>\n",
       "      <td>3.709677</td>\n",
       "      <td>30.338710</td>\n",
       "      <td>18.306452</td>\n",
       "    </tr>\n",
       "    <tr>\n",
       "      <th>2012-09-30</th>\n",
       "      <td>7.266667</td>\n",
       "      <td>27.166667</td>\n",
       "      <td>15.033333</td>\n",
       "    </tr>\n",
       "    <tr>\n",
       "      <th>2012-10-31</th>\n",
       "      <td>1.741935</td>\n",
       "      <td>19.774194</td>\n",
       "      <td>8.645161</td>\n",
       "    </tr>\n",
       "    <tr>\n",
       "      <th>2012-11-30</th>\n",
       "      <td>1.000000</td>\n",
       "      <td>15.500000</td>\n",
       "      <td>0.700000</td>\n",
       "    </tr>\n",
       "    <tr>\n",
       "      <th>2012-12-31</th>\n",
       "      <td>6.266667</td>\n",
       "      <td>12.783333</td>\n",
       "      <td>2.950000</td>\n",
       "    </tr>\n",
       "    <tr>\n",
       "      <th>2013-01-31</th>\n",
       "      <td>10.709677</td>\n",
       "      <td>9.967742</td>\n",
       "      <td>0.467742</td>\n",
       "    </tr>\n",
       "    <tr>\n",
       "      <th>2013-02-28</th>\n",
       "      <td>2.321429</td>\n",
       "      <td>10.714286</td>\n",
       "      <td>-0.517857</td>\n",
       "    </tr>\n",
       "    <tr>\n",
       "      <th>2013-03-31</th>\n",
       "      <td>4.709677</td>\n",
       "      <td>11.677419</td>\n",
       "      <td>0.693548</td>\n",
       "    </tr>\n",
       "    <tr>\n",
       "      <th>2013-04-30</th>\n",
       "      <td>5.933333</td>\n",
       "      <td>21.200000</td>\n",
       "      <td>7.333333</td>\n",
       "    </tr>\n",
       "    <tr>\n",
       "      <th>2013-05-31</th>\n",
       "      <td>4.709677</td>\n",
       "      <td>25.080645</td>\n",
       "      <td>12.241935</td>\n",
       "    </tr>\n",
       "    <tr>\n",
       "      <th>2013-06-30</th>\n",
       "      <td>6.566667</td>\n",
       "      <td>29.433333</td>\n",
       "      <td>18.350000</td>\n",
       "    </tr>\n",
       "    <tr>\n",
       "      <th>2013-07-31</th>\n",
       "      <td>7.741935</td>\n",
       "      <td>29.064516</td>\n",
       "      <td>19.387097</td>\n",
       "    </tr>\n",
       "    <tr>\n",
       "      <th>2013-08-31</th>\n",
       "      <td>5.322581</td>\n",
       "      <td>29.322581</td>\n",
       "      <td>19.354839</td>\n",
       "    </tr>\n",
       "    <tr>\n",
       "      <th>2013-09-30</th>\n",
       "      <td>4.033333</td>\n",
       "      <td>27.733333</td>\n",
       "      <td>15.966667</td>\n",
       "    </tr>\n",
       "    <tr>\n",
       "      <th>2013-10-31</th>\n",
       "      <td>0.516129</td>\n",
       "      <td>21.870968</td>\n",
       "      <td>9.806452</td>\n",
       "    </tr>\n",
       "    <tr>\n",
       "      <th>2013-11-30</th>\n",
       "      <td>4.400000</td>\n",
       "      <td>13.500000</td>\n",
       "      <td>1.450000</td>\n",
       "    </tr>\n",
       "    <tr>\n",
       "      <th>2013-12-31</th>\n",
       "      <td>7.387097</td>\n",
       "      <td>10.241935</td>\n",
       "      <td>0.258065</td>\n",
       "    </tr>\n",
       "  </tbody>\n",
       "</table>\n",
       "</div>"
      ],
      "text/plain": [
       "            mean_prcp  mean_tmax  mean_tmin\n",
       "2012-01-31   5.548387  11.193548   0.000000\n",
       "2012-02-29   3.413793  13.189655   1.379310\n",
       "2012-03-31   4.193548  22.532258   8.580645\n",
       "2012-04-30   3.866667  23.066667   9.066667\n",
       "2012-05-31   3.290323  28.000000  15.564516\n",
       "2012-06-30   1.533333  30.833333  16.883333\n",
       "2012-07-31   7.193548  32.967742  21.112903\n",
       "2012-08-31   3.709677  30.338710  18.306452\n",
       "2012-09-30   7.266667  27.166667  15.033333\n",
       "2012-10-31   1.741935  19.774194   8.645161\n",
       "2012-11-30   1.000000  15.500000   0.700000\n",
       "2012-12-31   6.266667  12.783333   2.950000\n",
       "2013-01-31  10.709677   9.967742   0.467742\n",
       "2013-02-28   2.321429  10.714286  -0.517857\n",
       "2013-03-31   4.709677  11.677419   0.693548\n",
       "2013-04-30   5.933333  21.200000   7.333333\n",
       "2013-05-31   4.709677  25.080645  12.241935\n",
       "2013-06-30   6.566667  29.433333  18.350000\n",
       "2013-07-31   7.741935  29.064516  19.387097\n",
       "2013-08-31   5.322581  29.322581  19.354839\n",
       "2013-09-30   4.033333  27.733333  15.966667\n",
       "2013-10-31   0.516129  21.870968   9.806452\n",
       "2013-11-30   4.400000  13.500000   1.450000\n",
       "2013-12-31   7.387097  10.241935   0.258065"
      ]
     },
     "execution_count": 127,
     "metadata": {},
     "output_type": "execute_result"
    }
   ],
   "source": [
    "# Group the data by month, and take the mean for each group (i.e. each month)\n",
    "df[['prcp', 'tmax', 'tmin']].resample('M').mean().add_prefix('mean_')"
   ]
  },
  {
   "cell_type": "code",
   "execution_count": 110,
   "metadata": {},
   "outputs": [
    {
     "data": {
      "text/html": [
       "<div>\n",
       "<style>\n",
       "    .dataframe thead tr:only-child th {\n",
       "        text-align: right;\n",
       "    }\n",
       "\n",
       "    .dataframe thead th {\n",
       "        text-align: left;\n",
       "    }\n",
       "\n",
       "    .dataframe tbody tr th {\n",
       "        vertical-align: top;\n",
       "    }\n",
       "</style>\n",
       "<table border=\"1\" class=\"dataframe\">\n",
       "  <thead>\n",
       "    <tr style=\"text-align: right;\">\n",
       "      <th></th>\n",
       "      <th></th>\n",
       "      <th>yday</th>\n",
       "      <th>prcp</th>\n",
       "      <th>tmax</th>\n",
       "      <th>tmin</th>\n",
       "    </tr>\n",
       "    <tr>\n",
       "      <th>month</th>\n",
       "      <th>year</th>\n",
       "      <th></th>\n",
       "      <th></th>\n",
       "      <th></th>\n",
       "      <th></th>\n",
       "    </tr>\n",
       "  </thead>\n",
       "  <tbody>\n",
       "    <tr>\n",
       "      <th rowspan=\"2\" valign=\"top\">1</th>\n",
       "      <th>2012</th>\n",
       "      <td>16.0</td>\n",
       "      <td>5.548387</td>\n",
       "      <td>11.193548</td>\n",
       "      <td>0.000000</td>\n",
       "    </tr>\n",
       "    <tr>\n",
       "      <th>2013</th>\n",
       "      <td>16.0</td>\n",
       "      <td>10.709677</td>\n",
       "      <td>9.967742</td>\n",
       "      <td>0.467742</td>\n",
       "    </tr>\n",
       "    <tr>\n",
       "      <th rowspan=\"2\" valign=\"top\">2</th>\n",
       "      <th>2012</th>\n",
       "      <td>46.0</td>\n",
       "      <td>3.413793</td>\n",
       "      <td>13.189655</td>\n",
       "      <td>1.379310</td>\n",
       "    </tr>\n",
       "    <tr>\n",
       "      <th>2013</th>\n",
       "      <td>45.5</td>\n",
       "      <td>2.321429</td>\n",
       "      <td>10.714286</td>\n",
       "      <td>-0.517857</td>\n",
       "    </tr>\n",
       "    <tr>\n",
       "      <th>3</th>\n",
       "      <th>2012</th>\n",
       "      <td>76.0</td>\n",
       "      <td>4.193548</td>\n",
       "      <td>22.532258</td>\n",
       "      <td>8.580645</td>\n",
       "    </tr>\n",
       "  </tbody>\n",
       "</table>\n",
       "</div>"
      ],
      "text/plain": [
       "            yday       prcp       tmax      tmin\n",
       "month year                                      \n",
       "1     2012  16.0   5.548387  11.193548  0.000000\n",
       "      2013  16.0  10.709677   9.967742  0.467742\n",
       "2     2012  46.0   3.413793  13.189655  1.379310\n",
       "      2013  45.5   2.321429  10.714286 -0.517857\n",
       "3     2012  76.0   4.193548  22.532258  8.580645"
      ]
     },
     "execution_count": 110,
     "metadata": {},
     "output_type": "execute_result"
    }
   ],
   "source": [
    "df_month = df[['month','year', 'yday', 'prcp', 'tmax', 'tmin']].groupby(['month', 'year']).mean()\n",
    "df_month.head()"
   ]
  },
  {
   "cell_type": "code",
   "execution_count": 105,
   "metadata": {},
   "outputs": [
    {
     "data": {
      "text/plain": [
       "(12, 4)"
      ]
     },
     "execution_count": 105,
     "metadata": {},
     "output_type": "execute_result"
    }
   ],
   "source": [
    "df_month.shape"
   ]
  },
  {
   "cell_type": "markdown",
   "metadata": {},
   "source": [
    "We have :\n",
    "-  categorical variable : year, yday(integer)\n",
    "-  other variable : floats or interger\n",
    "-  index : datetime"
   ]
  },
  {
   "cell_type": "code",
   "execution_count": 12,
   "metadata": {},
   "outputs": [
    {
     "name": "stdout",
     "output_type": "stream",
     "text": [
      "<class 'pandas.core.frame.DataFrame'>\n",
      "DatetimeIndex: 730 entries, 2012-01-01 to 2013-12-31\n",
      "Data columns (total 5 columns):\n",
      "year    730 non-null int64\n",
      "yday    730 non-null int64\n",
      "prcp    730 non-null float64\n",
      "tmax    730 non-null float64\n",
      "tmin    730 non-null float64\n",
      "dtypes: float64(3), int64(2)\n",
      "memory usage: 34.2 KB\n"
     ]
    }
   ],
   "source": [
    "df.info()"
   ]
  },
  {
   "cell_type": "code",
   "execution_count": 75,
   "metadata": {},
   "outputs": [
    {
     "data": {
      "text/html": [
       "<div>\n",
       "<style>\n",
       "    .dataframe thead tr:only-child th {\n",
       "        text-align: right;\n",
       "    }\n",
       "\n",
       "    .dataframe thead th {\n",
       "        text-align: left;\n",
       "    }\n",
       "\n",
       "    .dataframe tbody tr th {\n",
       "        vertical-align: top;\n",
       "    }\n",
       "</style>\n",
       "<table border=\"1\" class=\"dataframe\">\n",
       "  <thead>\n",
       "    <tr style=\"text-align: right;\">\n",
       "      <th></th>\n",
       "      <th>statename</th>\n",
       "      <th>activity_level</th>\n",
       "      <th>activity_level_label</th>\n",
       "      <th>weekend</th>\n",
       "      <th>season</th>\n",
       "      <th>weeknumber</th>\n",
       "      <th>Latitude</th>\n",
       "      <th>Longitude</th>\n",
       "    </tr>\n",
       "  </thead>\n",
       "  <tbody>\n",
       "    <tr>\n",
       "      <th>0</th>\n",
       "      <td>Alabama</td>\n",
       "      <td>1</td>\n",
       "      <td>Minimal</td>\n",
       "      <td>Oct-01-2016</td>\n",
       "      <td>2015-16</td>\n",
       "      <td>39</td>\n",
       "      <td>32.806671</td>\n",
       "      <td>-86.79113</td>\n",
       "    </tr>\n",
       "    <tr>\n",
       "      <th>1</th>\n",
       "      <td>Alabama</td>\n",
       "      <td>1</td>\n",
       "      <td>Minimal</td>\n",
       "      <td>Sep-24-2016</td>\n",
       "      <td>2015-16</td>\n",
       "      <td>38</td>\n",
       "      <td>32.806671</td>\n",
       "      <td>-86.79113</td>\n",
       "    </tr>\n",
       "    <tr>\n",
       "      <th>2</th>\n",
       "      <td>Alabama</td>\n",
       "      <td>1</td>\n",
       "      <td>Minimal</td>\n",
       "      <td>Sep-17-2016</td>\n",
       "      <td>2015-16</td>\n",
       "      <td>37</td>\n",
       "      <td>32.806671</td>\n",
       "      <td>-86.79113</td>\n",
       "    </tr>\n",
       "    <tr>\n",
       "      <th>3</th>\n",
       "      <td>Alabama</td>\n",
       "      <td>1</td>\n",
       "      <td>Minimal</td>\n",
       "      <td>Sep-10-2016</td>\n",
       "      <td>2015-16</td>\n",
       "      <td>36</td>\n",
       "      <td>32.806671</td>\n",
       "      <td>-86.79113</td>\n",
       "    </tr>\n",
       "    <tr>\n",
       "      <th>4</th>\n",
       "      <td>Alabama</td>\n",
       "      <td>1</td>\n",
       "      <td>Minimal</td>\n",
       "      <td>Sep-03-2016</td>\n",
       "      <td>2015-16</td>\n",
       "      <td>35</td>\n",
       "      <td>32.806671</td>\n",
       "      <td>-86.79113</td>\n",
       "    </tr>\n",
       "  </tbody>\n",
       "</table>\n",
       "</div>"
      ],
      "text/plain": [
       "  statename  activity_level activity_level_label      weekend   season  \\\n",
       "0   Alabama               1              Minimal  Oct-01-2016  2015-16   \n",
       "1   Alabama               1              Minimal  Sep-24-2016  2015-16   \n",
       "2   Alabama               1              Minimal  Sep-17-2016  2015-16   \n",
       "3   Alabama               1              Minimal  Sep-10-2016  2015-16   \n",
       "4   Alabama               1              Minimal  Sep-03-2016  2015-16   \n",
       "\n",
       "   weeknumber   Latitude  Longitude  \n",
       "0          39  32.806671  -86.79113  \n",
       "1          38  32.806671  -86.79113  \n",
       "2          37  32.806671  -86.79113  \n",
       "3          36  32.806671  -86.79113  \n",
       "4          35  32.806671  -86.79113  "
      ]
     },
     "execution_count": 75,
     "metadata": {},
     "output_type": "execute_result"
    }
   ],
   "source": [
    "#load ILI data from csv\n",
    "ili = pd.read_csv(\"../data/raw.csv\")\n",
    "ili.head()"
   ]
  },
  {
   "cell_type": "code",
   "execution_count": 76,
   "metadata": {},
   "outputs": [],
   "source": [
    "# Clean the data \n",
    "# tramsform to datetime\n",
    "ili['weekend'] = pd.to_datetime(ili['weekend'], format='%b-%d-%Y')\n",
    "ili['season'] = pd.to_datetime(ili['season'], format='%Y-%y') \n",
    "\n",
    "# add year month and day in the data\n",
    "ili['year'] = ili.weekend.dt.year\n",
    "ili['month'] = ili.weekend.dt.month\n",
    "ili['day'] = ili.weekend.dt.day\n",
    "\n",
    "#remove data that we don't need\n",
    "ili.drop(['weekend','season','weeknumber'], axis=1, inplace=True)"
   ]
  },
  {
   "cell_type": "code",
   "execution_count": 70,
   "metadata": {},
   "outputs": [
    {
     "data": {
      "text/html": [
       "<div>\n",
       "<style>\n",
       "    .dataframe thead tr:only-child th {\n",
       "        text-align: right;\n",
       "    }\n",
       "\n",
       "    .dataframe thead th {\n",
       "        text-align: left;\n",
       "    }\n",
       "\n",
       "    .dataframe tbody tr th {\n",
       "        vertical-align: top;\n",
       "    }\n",
       "</style>\n",
       "<table border=\"1\" class=\"dataframe\">\n",
       "  <thead>\n",
       "    <tr style=\"text-align: right;\">\n",
       "      <th></th>\n",
       "      <th>statename</th>\n",
       "      <th>activity_level</th>\n",
       "      <th>activity_level_label</th>\n",
       "      <th>Latitude</th>\n",
       "      <th>Longitude</th>\n",
       "      <th>year</th>\n",
       "      <th>month</th>\n",
       "      <th>day</th>\n",
       "    </tr>\n",
       "  </thead>\n",
       "  <tbody>\n",
       "    <tr>\n",
       "      <th>0</th>\n",
       "      <td>Alabama</td>\n",
       "      <td>1</td>\n",
       "      <td>Minimal</td>\n",
       "      <td>32.806671</td>\n",
       "      <td>-86.79113</td>\n",
       "      <td>2016</td>\n",
       "      <td>10</td>\n",
       "      <td>1</td>\n",
       "    </tr>\n",
       "    <tr>\n",
       "      <th>1</th>\n",
       "      <td>Alabama</td>\n",
       "      <td>1</td>\n",
       "      <td>Minimal</td>\n",
       "      <td>32.806671</td>\n",
       "      <td>-86.79113</td>\n",
       "      <td>2016</td>\n",
       "      <td>9</td>\n",
       "      <td>24</td>\n",
       "    </tr>\n",
       "    <tr>\n",
       "      <th>2</th>\n",
       "      <td>Alabama</td>\n",
       "      <td>1</td>\n",
       "      <td>Minimal</td>\n",
       "      <td>32.806671</td>\n",
       "      <td>-86.79113</td>\n",
       "      <td>2016</td>\n",
       "      <td>9</td>\n",
       "      <td>17</td>\n",
       "    </tr>\n",
       "    <tr>\n",
       "      <th>3</th>\n",
       "      <td>Alabama</td>\n",
       "      <td>1</td>\n",
       "      <td>Minimal</td>\n",
       "      <td>32.806671</td>\n",
       "      <td>-86.79113</td>\n",
       "      <td>2016</td>\n",
       "      <td>9</td>\n",
       "      <td>10</td>\n",
       "    </tr>\n",
       "    <tr>\n",
       "      <th>4</th>\n",
       "      <td>Alabama</td>\n",
       "      <td>1</td>\n",
       "      <td>Minimal</td>\n",
       "      <td>32.806671</td>\n",
       "      <td>-86.79113</td>\n",
       "      <td>2016</td>\n",
       "      <td>9</td>\n",
       "      <td>3</td>\n",
       "    </tr>\n",
       "  </tbody>\n",
       "</table>\n",
       "</div>"
      ],
      "text/plain": [
       "  statename  activity_level activity_level_label   Latitude  Longitude  year  \\\n",
       "0   Alabama               1              Minimal  32.806671  -86.79113  2016   \n",
       "1   Alabama               1              Minimal  32.806671  -86.79113  2016   \n",
       "2   Alabama               1              Minimal  32.806671  -86.79113  2016   \n",
       "3   Alabama               1              Minimal  32.806671  -86.79113  2016   \n",
       "4   Alabama               1              Minimal  32.806671  -86.79113  2016   \n",
       "\n",
       "   month  day  \n",
       "0     10    1  \n",
       "1      9   24  \n",
       "2      9   17  \n",
       "3      9   10  \n",
       "4      9    3  "
      ]
     },
     "execution_count": 70,
     "metadata": {},
     "output_type": "execute_result"
    }
   ],
   "source": [
    "ili.head()"
   ]
  },
  {
   "cell_type": "code",
   "execution_count": 77,
   "metadata": {},
   "outputs": [
    {
     "data": {
      "text/plain": [
       "(15933, 8)"
      ]
     },
     "execution_count": 77,
     "metadata": {},
     "output_type": "execute_result"
    }
   ],
   "source": [
    "ili.shape"
   ]
  },
  {
   "cell_type": "code",
   "execution_count": 78,
   "metadata": {},
   "outputs": [
    {
     "data": {
      "text/plain": [
       "(15933, 8)"
      ]
     },
     "execution_count": 78,
     "metadata": {},
     "output_type": "execute_result"
    }
   ],
   "source": [
    "ili.drop_duplicates()\n",
    "ili.shape"
   ]
  },
  {
   "cell_type": "code",
   "execution_count": 79,
   "metadata": {},
   "outputs": [
    {
     "name": "stdout",
     "output_type": "stream",
     "text": [
      "<class 'pandas.core.frame.DataFrame'>\n",
      "RangeIndex: 15933 entries, 0 to 15932\n",
      "Data columns (total 8 columns):\n",
      "statename               15933 non-null object\n",
      "activity_level          15933 non-null int64\n",
      "activity_level_label    15933 non-null object\n",
      "Latitude                15933 non-null float64\n",
      "Longitude               15933 non-null float64\n",
      "year                    15933 non-null int64\n",
      "month                   15933 non-null int64\n",
      "day                     15933 non-null int64\n",
      "dtypes: float64(2), int64(4), object(2)\n",
      "memory usage: 995.9+ KB\n"
     ]
    }
   ],
   "source": [
    "ili.info()"
   ]
  },
  {
   "cell_type": "markdown",
   "metadata": {},
   "source": [
    "## Metadata\n",
    "\n",
    "store meta-information about the variables in a DataFrame\n",
    "\n",
    "\n",
    "-  **role**: response, explanatory (variable that we want to predict)\n",
    "-  **level**: nominal, interval, ordinal, binary\n",
    "-  **keep**: True or False\n",
    "-  **dtype**: int, float, str"
   ]
  },
  {
   "cell_type": "code",
   "execution_count": 56,
   "metadata": {
    "collapsed": true
   },
   "outputs": [],
   "source": [
    "meta_ili = []\n",
    "for f in ili.columns:\n",
    "    # Defining the role\n",
    "    if f == 'activity_level' or f == 'activity_level_label':\n",
    "        role = 'response'\n",
    "    else:\n",
    "        role = 'explanatory'\n",
    "         \n",
    "    # Defining the level\n",
    "    if 'statename' == f :\n",
    "        level = 'nominal'\n",
    "    elif 'activity_level_label' == f:\n",
    "        level = 'ordinal'\n",
    "    elif 'weekend' == f or 'season' == f or 'weeknumber' == f:\n",
    "        level = 'interval'\n",
    "    elif ili[f].dtype == float:\n",
    "        level = 'ordinal'\n",
    "    elif ili[f].dtype == int:\n",
    "        level = 'ordinal'\n",
    "        \n",
    "    # Initialize keep to True for all variables except for id\n",
    "    keep = True\n",
    "    if f == 'activity_level_label':\n",
    "        keep = False\n",
    "    \n",
    "    # Defining the data type \n",
    "    dtype = ili[f].dtype\n",
    "    \n",
    "    # Creating a Dict that contains all the metadata for the variable\n",
    "    f_dict = {\n",
    "        'varname': f,\n",
    "        'role': role,\n",
    "        'level': level,\n",
    "        'keep': keep,\n",
    "        'dtype': dtype\n",
    "    }\n",
    "    meta_ili.append(f_dict)\n",
    "    \n",
    "meta = pd.DataFrame(meta_ili, columns=['varname', 'role', 'level', 'keep', 'dtype'])\n",
    "meta.set_index('varname', inplace=True)"
   ]
  },
  {
   "cell_type": "code",
   "execution_count": 57,
   "metadata": {},
   "outputs": [
    {
     "data": {
      "text/html": [
       "<div>\n",
       "<style>\n",
       "    .dataframe thead tr:only-child th {\n",
       "        text-align: right;\n",
       "    }\n",
       "\n",
       "    .dataframe thead th {\n",
       "        text-align: left;\n",
       "    }\n",
       "\n",
       "    .dataframe tbody tr th {\n",
       "        vertical-align: top;\n",
       "    }\n",
       "</style>\n",
       "<table border=\"1\" class=\"dataframe\">\n",
       "  <thead>\n",
       "    <tr style=\"text-align: right;\">\n",
       "      <th></th>\n",
       "      <th>role</th>\n",
       "      <th>level</th>\n",
       "      <th>keep</th>\n",
       "      <th>dtype</th>\n",
       "    </tr>\n",
       "    <tr>\n",
       "      <th>varname</th>\n",
       "      <th></th>\n",
       "      <th></th>\n",
       "      <th></th>\n",
       "      <th></th>\n",
       "    </tr>\n",
       "  </thead>\n",
       "  <tbody>\n",
       "    <tr>\n",
       "      <th>statename</th>\n",
       "      <td>explanatory</td>\n",
       "      <td>nominal</td>\n",
       "      <td>True</td>\n",
       "      <td>object</td>\n",
       "    </tr>\n",
       "    <tr>\n",
       "      <th>activity_level</th>\n",
       "      <td>response</td>\n",
       "      <td>ordinal</td>\n",
       "      <td>True</td>\n",
       "      <td>int64</td>\n",
       "    </tr>\n",
       "    <tr>\n",
       "      <th>activity_level_label</th>\n",
       "      <td>response</td>\n",
       "      <td>ordinal</td>\n",
       "      <td>False</td>\n",
       "      <td>object</td>\n",
       "    </tr>\n",
       "    <tr>\n",
       "      <th>weekend</th>\n",
       "      <td>explanatory</td>\n",
       "      <td>interval</td>\n",
       "      <td>True</td>\n",
       "      <td>datetime64[ns]</td>\n",
       "    </tr>\n",
       "    <tr>\n",
       "      <th>season</th>\n",
       "      <td>explanatory</td>\n",
       "      <td>interval</td>\n",
       "      <td>True</td>\n",
       "      <td>datetime64[ns]</td>\n",
       "    </tr>\n",
       "    <tr>\n",
       "      <th>weeknumber</th>\n",
       "      <td>explanatory</td>\n",
       "      <td>interval</td>\n",
       "      <td>True</td>\n",
       "      <td>int64</td>\n",
       "    </tr>\n",
       "    <tr>\n",
       "      <th>Latitude</th>\n",
       "      <td>explanatory</td>\n",
       "      <td>ordinal</td>\n",
       "      <td>True</td>\n",
       "      <td>float64</td>\n",
       "    </tr>\n",
       "    <tr>\n",
       "      <th>Longitude</th>\n",
       "      <td>explanatory</td>\n",
       "      <td>ordinal</td>\n",
       "      <td>True</td>\n",
       "      <td>float64</td>\n",
       "    </tr>\n",
       "  </tbody>\n",
       "</table>\n",
       "</div>"
      ],
      "text/plain": [
       "                             role     level   keep           dtype\n",
       "varname                                                           \n",
       "statename             explanatory   nominal   True          object\n",
       "activity_level           response   ordinal   True           int64\n",
       "activity_level_label     response   ordinal  False          object\n",
       "weekend               explanatory  interval   True  datetime64[ns]\n",
       "season                explanatory  interval   True  datetime64[ns]\n",
       "weeknumber            explanatory  interval   True           int64\n",
       "Latitude              explanatory   ordinal   True         float64\n",
       "Longitude             explanatory   ordinal   True         float64"
      ]
     },
     "execution_count": 57,
     "metadata": {},
     "output_type": "execute_result"
    }
   ],
   "source": [
    "meta"
   ]
  },
  {
   "cell_type": "code",
   "execution_count": 58,
   "metadata": {},
   "outputs": [
    {
     "data": {
      "text/html": [
       "<div>\n",
       "<style>\n",
       "    .dataframe thead tr:only-child th {\n",
       "        text-align: right;\n",
       "    }\n",
       "\n",
       "    .dataframe thead th {\n",
       "        text-align: left;\n",
       "    }\n",
       "\n",
       "    .dataframe tbody tr th {\n",
       "        vertical-align: top;\n",
       "    }\n",
       "</style>\n",
       "<table border=\"1\" class=\"dataframe\">\n",
       "  <thead>\n",
       "    <tr style=\"text-align: right;\">\n",
       "      <th></th>\n",
       "      <th>role</th>\n",
       "      <th>level</th>\n",
       "      <th>count</th>\n",
       "    </tr>\n",
       "  </thead>\n",
       "  <tbody>\n",
       "    <tr>\n",
       "      <th>0</th>\n",
       "      <td>explanatory</td>\n",
       "      <td>interval</td>\n",
       "      <td>3</td>\n",
       "    </tr>\n",
       "    <tr>\n",
       "      <th>1</th>\n",
       "      <td>explanatory</td>\n",
       "      <td>nominal</td>\n",
       "      <td>1</td>\n",
       "    </tr>\n",
       "    <tr>\n",
       "      <th>2</th>\n",
       "      <td>explanatory</td>\n",
       "      <td>ordinal</td>\n",
       "      <td>2</td>\n",
       "    </tr>\n",
       "    <tr>\n",
       "      <th>3</th>\n",
       "      <td>response</td>\n",
       "      <td>ordinal</td>\n",
       "      <td>2</td>\n",
       "    </tr>\n",
       "  </tbody>\n",
       "</table>\n",
       "</div>"
      ],
      "text/plain": [
       "          role     level  count\n",
       "0  explanatory  interval      3\n",
       "1  explanatory   nominal      1\n",
       "2  explanatory   ordinal      2\n",
       "3     response   ordinal      2"
      ]
     },
     "execution_count": 58,
     "metadata": {},
     "output_type": "execute_result"
    }
   ],
   "source": [
    "# Below the number of variables per role and level are displayed.\n",
    "\n",
    "pd.DataFrame({'count' : meta.groupby(['role', 'level'])['role'].size()}).reset_index()"
   ]
  },
  {
   "cell_type": "markdown",
   "metadata": {},
   "source": [
    "### interval variables"
   ]
  },
  {
   "cell_type": "code",
   "execution_count": 59,
   "metadata": {},
   "outputs": [
    {
     "data": {
      "text/html": [
       "<div>\n",
       "<style>\n",
       "    .dataframe thead tr:only-child th {\n",
       "        text-align: right;\n",
       "    }\n",
       "\n",
       "    .dataframe thead th {\n",
       "        text-align: left;\n",
       "    }\n",
       "\n",
       "    .dataframe tbody tr th {\n",
       "        vertical-align: top;\n",
       "    }\n",
       "</style>\n",
       "<table border=\"1\" class=\"dataframe\">\n",
       "  <thead>\n",
       "    <tr style=\"text-align: right;\">\n",
       "      <th></th>\n",
       "      <th>activity_level</th>\n",
       "      <th>Latitude</th>\n",
       "      <th>Longitude</th>\n",
       "    </tr>\n",
       "  </thead>\n",
       "  <tbody>\n",
       "    <tr>\n",
       "      <th>count</th>\n",
       "      <td>15933.000000</td>\n",
       "      <td>15933.000000</td>\n",
       "      <td>15933.000000</td>\n",
       "    </tr>\n",
       "    <tr>\n",
       "      <th>mean</th>\n",
       "      <td>1.957510</td>\n",
       "      <td>39.465562</td>\n",
       "      <td>-93.366505</td>\n",
       "    </tr>\n",
       "    <tr>\n",
       "      <th>std</th>\n",
       "      <td>2.183754</td>\n",
       "      <td>6.015489</td>\n",
       "      <td>19.102700</td>\n",
       "    </tr>\n",
       "    <tr>\n",
       "      <th>min</th>\n",
       "      <td>0.000000</td>\n",
       "      <td>21.094318</td>\n",
       "      <td>-157.498337</td>\n",
       "    </tr>\n",
       "    <tr>\n",
       "      <th>25%</th>\n",
       "      <td>1.000000</td>\n",
       "      <td>35.630066</td>\n",
       "      <td>-105.311104</td>\n",
       "    </tr>\n",
       "    <tr>\n",
       "      <th>50%</th>\n",
       "      <td>1.000000</td>\n",
       "      <td>39.849426</td>\n",
       "      <td>-89.616508</td>\n",
       "    </tr>\n",
       "    <tr>\n",
       "      <th>75%</th>\n",
       "      <td>2.000000</td>\n",
       "      <td>43.326618</td>\n",
       "      <td>-78.169968</td>\n",
       "    </tr>\n",
       "    <tr>\n",
       "      <th>max</th>\n",
       "      <td>10.000000</td>\n",
       "      <td>61.370716</td>\n",
       "      <td>-69.381927</td>\n",
       "    </tr>\n",
       "  </tbody>\n",
       "</table>\n",
       "</div>"
      ],
      "text/plain": [
       "       activity_level      Latitude     Longitude\n",
       "count    15933.000000  15933.000000  15933.000000\n",
       "mean         1.957510     39.465562    -93.366505\n",
       "std          2.183754      6.015489     19.102700\n",
       "min          0.000000     21.094318   -157.498337\n",
       "25%          1.000000     35.630066   -105.311104\n",
       "50%          1.000000     39.849426    -89.616508\n",
       "75%          2.000000     43.326618    -78.169968\n",
       "max         10.000000     61.370716    -69.381927"
      ]
     },
     "execution_count": 59,
     "metadata": {},
     "output_type": "execute_result"
    }
   ],
   "source": [
    "v = meta[(meta.level == 'ordinal') & (meta.keep)].index\n",
    "ili[v].describe()"
   ]
  },
  {
   "cell_type": "code",
   "execution_count": 60,
   "metadata": {},
   "outputs": [
    {
     "data": {
      "text/html": [
       "<div>\n",
       "<style>\n",
       "    .dataframe thead tr:only-child th {\n",
       "        text-align: right;\n",
       "    }\n",
       "\n",
       "    .dataframe thead th {\n",
       "        text-align: left;\n",
       "    }\n",
       "\n",
       "    .dataframe tbody tr th {\n",
       "        vertical-align: top;\n",
       "    }\n",
       "</style>\n",
       "<table border=\"1\" class=\"dataframe\">\n",
       "  <thead>\n",
       "    <tr style=\"text-align: right;\">\n",
       "      <th></th>\n",
       "      <th>statename</th>\n",
       "    </tr>\n",
       "  </thead>\n",
       "  <tbody>\n",
       "    <tr>\n",
       "      <th>count</th>\n",
       "      <td>15933</td>\n",
       "    </tr>\n",
       "    <tr>\n",
       "      <th>unique</th>\n",
       "      <td>51</td>\n",
       "    </tr>\n",
       "    <tr>\n",
       "      <th>top</th>\n",
       "      <td>Alaska</td>\n",
       "    </tr>\n",
       "    <tr>\n",
       "      <th>freq</th>\n",
       "      <td>313</td>\n",
       "    </tr>\n",
       "  </tbody>\n",
       "</table>\n",
       "</div>"
      ],
      "text/plain": [
       "       statename\n",
       "count      15933\n",
       "unique        51\n",
       "top       Alaska\n",
       "freq         313"
      ]
     },
     "execution_count": 60,
     "metadata": {},
     "output_type": "execute_result"
    }
   ],
   "source": [
    "v = meta[(meta.level == 'nominal') & (meta.keep)].index\n",
    "ili[v].describe()"
   ]
  },
  {
   "cell_type": "markdown",
   "metadata": {},
   "source": [
    "### Checking the cardinality of the categorical variables"
   ]
  },
  {
   "cell_type": "code",
   "execution_count": 62,
   "metadata": {},
   "outputs": [
    {
     "name": "stdout",
     "output_type": "stream",
     "text": [
      "Variable weekend has 313 distinct values\n",
      "Variable season has 6 distinct values\n",
      "Variable weeknumber has 53 distinct values\n"
     ]
    }
   ],
   "source": [
    "v = meta[(meta.level == 'interval') & (meta.keep)].index\n",
    "\n",
    "for f in v:\n",
    "    dist_values = ili[f].value_counts().shape[0]\n",
    "    print('Variable {} has {} distinct values'.format(f, dist_values))"
   ]
  },
  {
   "cell_type": "code",
   "execution_count": null,
   "metadata": {
    "collapsed": true
   },
   "outputs": [],
   "source": []
  },
  {
   "cell_type": "code",
   "execution_count": null,
   "metadata": {
    "collapsed": true
   },
   "outputs": [],
   "source": []
  }
 ],
 "metadata": {
  "kernelspec": {
   "display_name": "Python 3",
   "language": "python",
   "name": "python3"
  },
  "language_info": {
   "codemirror_mode": {
    "name": "ipython",
    "version": 3
   },
   "file_extension": ".py",
   "mimetype": "text/x-python",
   "name": "python",
   "nbconvert_exporter": "python",
   "pygments_lexer": "ipython3",
   "version": "3.6.1"
  }
 },
 "nbformat": 4,
 "nbformat_minor": 2
}
